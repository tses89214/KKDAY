{
 "cells": [
  {
   "cell_type": "code",
   "execution_count": 75,
   "metadata": {},
   "outputs": [],
   "source": [
    "from  selenium import webdriver\n",
    "from selenium.webdriver.chrome.options import Options\n",
    "import pandas as pd"
   ]
  },
  {
   "cell_type": "markdown",
   "metadata": {},
   "source": [
    "# KKDAY商品價格爬蟲\n",
    "此份腳本為爬取KKDAY指定商品的爬蟲程式，能夠定時取得「不同幣別的各商品價格」，\n",
    "\n",
    "並提供予相關人員作加值應用，例如與競品做競價比較等等。"
   ]
  },
  {
   "cell_type": "code",
   "execution_count": 76,
   "metadata": {},
   "outputs": [],
   "source": [
    "##----------------------demand-------------------------------##\n",
    "#demand product list \n",
    "ProductList = [\n",
    "    'https://www.kkday.com/zh-tw/product/5297', \n",
    "    'https://www.kkday.com/zh-tw/product/2312',\n",
    "    'https://www.kkday.com/zh-tw/product/39222'\n",
    "]\n",
    "\n",
    "#demand currency\n",
    "CurrencyList = ['TWD','JPY']\n",
    "##----------------------------------------------------------##"
   ]
  },
  {
   "cell_type": "code",
   "execution_count": 77,
   "metadata": {
    "scrolled": true
   },
   "outputs": [],
   "source": [
    "#new brsower\n",
    "driver = webdriver.Chrome()"
   ]
  },
  {
   "cell_type": "code",
   "execution_count": 78,
   "metadata": {},
   "outputs": [],
   "source": [
    "def Change_Currency(TargetCurrency):\n",
    "    driver.find_element_by_css_selector('#header-switch-currency').click()\n",
    "    driver.find_element_by_partial_link_text(TargetCurrency).click()"
   ]
  },
  {
   "cell_type": "code",
   "execution_count": 79,
   "metadata": {},
   "outputs": [],
   "source": [
    "Result_link=[]\n",
    "Result_title=[]\n",
    "Result_price=[]\n",
    "Result_currency=[]\n",
    "driver.get('https://www.kkday.com/zh-tw/')\n",
    "\n",
    "for Currency in Currency_list:\n",
    "    Change_Currency(TargetCurrency = Currency)\n",
    "    \n",
    "    for Product in ProductList:\n",
    "        #get price\n",
    "        driver.get(Product)\n",
    "        Price_text = driver.find_element_by_css_selector('#booking-bar .text-heavy').text  ## example: TWD 800\n",
    "        Price_text = Price_text.split(' ')  \n",
    "        assert Price_text[0] == Currency # make sure right currency\n",
    "        Result_price.append(Price_text[1])\n",
    "\n",
    "        #get title\n",
    "        ProductTitle_text = driver.find_element_by_css_selector('H1').text\n",
    "        Result_title.append(ProductTitle_text)\n",
    "\n",
    "        #record link and currency\n",
    "        Result_link.append(Product)\n",
    "        Result_currency.append(Currency)\n",
    "\n",
    "#combind Result\n",
    "Result = pd.DataFrame({\n",
    "    'title':Result_title,\n",
    "    'link':Result_link,\n",
    "    'price':Result_price,\n",
    "    'Currency':Result_currency\n",
    "})"
   ]
  },
  {
   "cell_type": "code",
   "execution_count": 80,
   "metadata": {},
   "outputs": [
    {
     "data": {
      "text/html": [
       "<div>\n",
       "<style scoped>\n",
       "    .dataframe tbody tr th:only-of-type {\n",
       "        vertical-align: middle;\n",
       "    }\n",
       "\n",
       "    .dataframe tbody tr th {\n",
       "        vertical-align: top;\n",
       "    }\n",
       "\n",
       "    .dataframe thead th {\n",
       "        text-align: right;\n",
       "    }\n",
       "</style>\n",
       "<table border=\"1\" class=\"dataframe\">\n",
       "  <thead>\n",
       "    <tr style=\"text-align: right;\">\n",
       "      <th></th>\n",
       "      <th>title</th>\n",
       "      <th>link</th>\n",
       "      <th>price</th>\n",
       "      <th>Currency</th>\n",
       "    </tr>\n",
       "  </thead>\n",
       "  <tbody>\n",
       "    <tr>\n",
       "      <th>0</th>\n",
       "      <td>【季節限定】宜蘭龜山島賞鯨半日遊｜登島＆環島＆賞鯨</td>\n",
       "      <td>https://www.kkday.com/zh-tw/product/5297</td>\n",
       "      <td>800</td>\n",
       "      <td>TWD</td>\n",
       "    </tr>\n",
       "    <tr>\n",
       "      <th>1</th>\n",
       "      <td>【新加坡必去景點】新加坡環球影城門票</td>\n",
       "      <td>https://www.kkday.com/zh-tw/product/2312</td>\n",
       "      <td>1,698</td>\n",
       "      <td>TWD</td>\n",
       "    </tr>\n",
       "    <tr>\n",
       "      <th>2</th>\n",
       "      <td>台東南迴部落食尚一日遊 | 撒布優部落&amp;拉勞蘭小米工坊&amp;多良車站&amp;櫻木平交道 | 台東市區出發</td>\n",
       "      <td>https://www.kkday.com/zh-tw/product/39222</td>\n",
       "      <td>1,805</td>\n",
       "      <td>TWD</td>\n",
       "    </tr>\n",
       "    <tr>\n",
       "      <th>3</th>\n",
       "      <td>【季節限定】宜蘭龜山島賞鯨半日遊｜登島＆環島＆賞鯨</td>\n",
       "      <td>https://www.kkday.com/zh-tw/product/5297</td>\n",
       "      <td>2,910</td>\n",
       "      <td>JPY</td>\n",
       "    </tr>\n",
       "    <tr>\n",
       "      <th>4</th>\n",
       "      <td>【新加坡必去景點】新加坡環球影城門票</td>\n",
       "      <td>https://www.kkday.com/zh-tw/product/2312</td>\n",
       "      <td>5,094</td>\n",
       "      <td>JPY</td>\n",
       "    </tr>\n",
       "    <tr>\n",
       "      <th>5</th>\n",
       "      <td>台東南迴部落食尚一日遊 | 撒布優部落&amp;拉勞蘭小米工坊&amp;多良車站&amp;櫻木平交道 | 台東市區出發</td>\n",
       "      <td>https://www.kkday.com/zh-tw/product/39222</td>\n",
       "      <td>6,556</td>\n",
       "      <td>JPY</td>\n",
       "    </tr>\n",
       "  </tbody>\n",
       "</table>\n",
       "</div>"
      ],
      "text/plain": [
       "                                             title  \\\n",
       "0                        【季節限定】宜蘭龜山島賞鯨半日遊｜登島＆環島＆賞鯨   \n",
       "1                               【新加坡必去景點】新加坡環球影城門票   \n",
       "2  台東南迴部落食尚一日遊 | 撒布優部落&拉勞蘭小米工坊&多良車站&櫻木平交道 | 台東市區出發   \n",
       "3                        【季節限定】宜蘭龜山島賞鯨半日遊｜登島＆環島＆賞鯨   \n",
       "4                               【新加坡必去景點】新加坡環球影城門票   \n",
       "5  台東南迴部落食尚一日遊 | 撒布優部落&拉勞蘭小米工坊&多良車站&櫻木平交道 | 台東市區出發   \n",
       "\n",
       "                                        link  price Currency  \n",
       "0   https://www.kkday.com/zh-tw/product/5297    800      TWD  \n",
       "1   https://www.kkday.com/zh-tw/product/2312  1,698      TWD  \n",
       "2  https://www.kkday.com/zh-tw/product/39222  1,805      TWD  \n",
       "3   https://www.kkday.com/zh-tw/product/5297  2,910      JPY  \n",
       "4   https://www.kkday.com/zh-tw/product/2312  5,094      JPY  \n",
       "5  https://www.kkday.com/zh-tw/product/39222  6,556      JPY  "
      ]
     },
     "execution_count": 80,
     "metadata": {},
     "output_type": "execute_result"
    }
   ],
   "source": [
    "Result"
   ]
  }
 ],
 "metadata": {
  "kernelspec": {
   "display_name": "Python 3",
   "language": "python",
   "name": "python3"
  },
  "language_info": {
   "codemirror_mode": {
    "name": "ipython",
    "version": 3
   },
   "file_extension": ".py",
   "mimetype": "text/x-python",
   "name": "python",
   "nbconvert_exporter": "python",
   "pygments_lexer": "ipython3",
   "version": "3.7.6"
  }
 },
 "nbformat": 4,
 "nbformat_minor": 4
}
